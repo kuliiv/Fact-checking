{
 "cells": [
  {
   "cell_type": "markdown",
   "id": "9275b40b",
   "metadata": {},
   "source": [
    "## Importing necessary libraries"
   ]
  },
  {
   "cell_type": "code",
   "execution_count": null,
   "id": "fa4900ae",
   "metadata": {},
   "outputs": [],
   "source": [
    "import openai\n",
    "import json\n",
    "import pandas as pd\n",
    "import numpy as np\n",
    "import re\n",
    "\n",
    "from tqdm.notebook import tqdm_notebook\n",
    "tqdm_notebook.pandas()"
   ]
  },
  {
   "cell_type": "markdown",
   "id": "1916ecb0",
   "metadata": {},
   "source": [
    "## Uploading scrapped dataframe"
   ]
  },
  {
   "cell_type": "code",
   "execution_count": null,
   "id": "e273b768",
   "metadata": {},
   "outputs": [],
   "source": [
    "fc_df = pd.read_csv('fc_df.csv', encoding='utf-8', index_col = 0, low_memory = False)"
   ]
  },
  {
   "cell_type": "markdown",
   "id": "143758b3",
   "metadata": {},
   "source": [
    "## Preprocessing data"
   ]
  },
  {
   "cell_type": "markdown",
   "id": "e9a02e28",
   "metadata": {},
   "source": [
    "Here we extracted date from \"desc\" variable and converted it to datetime type."
   ]
  },
  {
   "cell_type": "code",
   "execution_count": null,
   "id": "c0c171e3",
   "metadata": {},
   "outputs": [],
   "source": [
    "fc_df[\"date\"] = fc_df[\"desc\"].apply(lambda x: re.search(r'\\w+\\s\\d+,\\s\\d+',x).group(0))\n",
    "fc_df[\"date\"] = pd.to_datetime(fc_df[\"date\"])"
   ]
  },
  {
   "cell_type": "markdown",
   "id": "304c71a1",
   "metadata": {},
   "source": [
    "Here we convert each date to number of days from 1-Jan-2000 to current day.\n",
    "\n",
    "The underlying assumption is that politicians and any other public figures don't care too much about the season or day of the year. There are only some specific dates that are important to them (meaning they are more prone to lie or to be honest, depends on situation), so it makes sense to look at time as number of days from some fererence point."
   ]
  },
  {
   "cell_type": "code",
   "execution_count": null,
   "id": "8fb99059",
   "metadata": {},
   "outputs": [],
   "source": [
    "fc_df[\"date_num\"] = fc_df[\"date\"].apply(lambda x: x - pd.to_datetime(\"2000-01-01\")).dt.days"
   ]
  },
  {
   "cell_type": "markdown",
   "id": "bf790c01",
   "metadata": {},
   "source": [
    "Next we need to subset all the records collected before 31-Aug-2021 since it's cutoff date for openAI model.\n"
   ]
  },
  {
   "cell_type": "code",
   "execution_count": null,
   "id": "c5007316",
   "metadata": {},
   "outputs": [],
   "source": [
    "fc_df = fc_df[fc_df.date_num <= 7913] # correesponds to 31-Aug-2021"
   ]
  },
  {
   "cell_type": "markdown",
   "id": "e7d86b4a",
   "metadata": {},
   "source": [
    "Sinse OpenAI model API free requests are limited, we can't use the full dataset to create an AI response, so we need to subset 3000 records from it."
   ]
  },
  {
   "cell_type": "code",
   "execution_count": null,
   "id": "01d5f48f",
   "metadata": {},
   "outputs": [],
   "source": [
    "fc_df = fc_df.sample(n = 3000)"
   ]
  },
  {
   "cell_type": "markdown",
   "id": "e9f5c648",
   "metadata": {},
   "source": [
    "## Getting API key \n",
    "\n",
    "If you want to replicate results, don't forget to register at https://platform.openai.com/ and receive your own API key. Later save it as 'txt' file in the same place where you code is located as 'apikey.txt'."
   ]
  },
  {
   "cell_type": "code",
   "execution_count": null,
   "id": "538b0538",
   "metadata": {},
   "outputs": [],
   "source": [
    "filename = 'apikey.txt'\n",
    "\n",
    "def get_file_contents(filename):\n",
    "    with open(filename, 'r') as f:\n",
    "        return f.read().strip()\n",
    "    \n",
    "openai.api_key = get_file_contents(filename)"
   ]
  },
  {
   "cell_type": "markdown",
   "id": "f62ca5b4",
   "metadata": {},
   "source": [
    "## Defining request funciton"
   ]
  },
  {
   "cell_type": "code",
   "execution_count": 4,
   "id": "c4285e87",
   "metadata": {},
   "outputs": [],
   "source": [
    "def openai_request(string):\n",
    "    response = openai.Completion.create(\n",
    "      model=\"text-davinci-003\",\n",
    "      prompt=\"Summerize all you know about this:  \" + string,\n",
    "      temperature=0,\n",
    "      max_tokens=100,\n",
    "      top_p=1,\n",
    "      frequency_penalty=0,\n",
    "      presence_penalty=0\n",
    "    )\n",
    "\n",
    "    response_json = json.dumps(response)\n",
    "    response_dict = json.loads(response_json)\n",
    "    response_text = response_dict['choices'][0]['text'][2:]\n",
    "    \n",
    "    return response_text"
   ]
  },
  {
   "cell_type": "markdown",
   "id": "0f6c4656",
   "metadata": {},
   "source": [
    "## Generating AI response as separate variable"
   ]
  },
  {
   "cell_type": "code",
   "execution_count": null,
   "id": "d856ef5d",
   "metadata": {},
   "outputs": [],
   "source": [
    "fc_df_with_ai_response = fc_df.copy(deep=True)\n",
    "fc_df_with_ai_response['post_ai_response'] = fc_df_with_ai_response['post'].progress_apply(openai_request)"
   ]
  },
  {
   "cell_type": "markdown",
   "id": "abff1384",
   "metadata": {},
   "source": [
    "## Removing useless columns"
   ]
  },
  {
   "cell_type": "code",
   "execution_count": null,
   "id": "fbd6a9b2",
   "metadata": {},
   "outputs": [],
   "source": [
    "fc_df_with_ai_response = fc_df_with_ai_response.drop(['desc', 'date'],axis = 1)"
   ]
  },
  {
   "cell_type": "markdown",
   "id": "511cfcc8",
   "metadata": {},
   "source": [
    "## Exporting the data as intermediate result"
   ]
  },
  {
   "cell_type": "code",
   "execution_count": null,
   "id": "4e85534b",
   "metadata": {},
   "outputs": [],
   "source": [
    "fc_df_with_ai_response.to_csv('fc_df2.csv', encoding='utf-8')"
   ]
  }
 ],
 "metadata": {
  "kernelspec": {
   "display_name": "Python 3 (ipykernel)",
   "language": "python",
   "name": "python3"
  },
  "language_info": {
   "codemirror_mode": {
    "name": "ipython",
    "version": 3
   },
   "file_extension": ".py",
   "mimetype": "text/x-python",
   "name": "python",
   "nbconvert_exporter": "python",
   "pygments_lexer": "ipython3",
   "version": "3.8.2"
  }
 },
 "nbformat": 4,
 "nbformat_minor": 5
}
