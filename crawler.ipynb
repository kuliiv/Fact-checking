{
 "cells": [
  {
   "cell_type": "markdown",
   "id": "2fcb33ac",
   "metadata": {},
   "source": [
    "## Importing necessary libraries"
   ]
  },
  {
   "cell_type": "code",
   "execution_count": null,
   "id": "d40a7f6f",
   "metadata": {},
   "outputs": [],
   "source": [
    "import scrapy\n",
    "from scrapy.crawler import CrawlerProcess\n",
    "import requests\n",
    "\n",
    "import pandas as pd"
   ]
  },
  {
   "cell_type": "markdown",
   "id": "9c770d10",
   "metadata": {},
   "source": [
    "## Creating and runnign the Crawler"
   ]
  },
  {
   "cell_type": "code",
   "execution_count": null,
   "id": "04b0fbd9",
   "metadata": {},
   "outputs": [],
   "source": [
    "# Create the Spider class\n",
    "class FC_Spider(scrapy.Spider):\n",
    "    name = \"fc_spider\"\n",
    "    empty_page_checker_1 = False\n",
    "    empty_page_checker_2 = False\n",
    "    itter = 1\n",
    "\n",
    "    # start_requests method\n",
    "    def start_requests(self):\n",
    "        \n",
    "        for status in [\"true\",\"mostly-true\",\"half-true\",\"barely-true\",\"false\",\"pants-fire\"]:\n",
    "           \n",
    "            self.empty_page_checker_1 = False\n",
    "            self.empty_page_checker_2 = False\n",
    "            self.itter = 1\n",
    "\n",
    "            while not self.empty_page_checker_1 and not self.empty_page_checker_2:\n",
    "                \n",
    "                url = \"https://www.politifact.com/factchecks/list/?page={}&ruling={}\".format(self.itter, status)\n",
    "                self.empty_page_checker_1 = not requests.get(url).ok\n",
    "\n",
    "                if not self.empty_page_checker_1:\n",
    "                    yield scrapy.Request(url = url\n",
    "                                        ,callback = self.parse_list\n",
    "                                        ,cb_kwargs = dict(status=status))\n",
    "    \n",
    "    # First parsing method\n",
    "    def parse_list(self, response, status):\n",
    "        \n",
    "        self.empty_page_checker_2 = response.xpath('//h2[contains(text(), \"No Results found\")]').extract_first() != None\n",
    "        \n",
    "        if not self.empty_page_checker_2:\n",
    "        \n",
    "            self.itter += 1\n",
    "            post_blocks = response.css('div.m-statement__quote')\n",
    "            post_links = post_blocks.xpath('./a/@href').extract()\n",
    "\n",
    "            for url in post_links:\n",
    "                yield response.follow(url = url\n",
    "                                     ,callback = self.parse_post\n",
    "                                     ,cb_kwargs=dict(status=status))\n",
    "            \n",
    "\n",
    "    # Second parsing method\n",
    "    def parse_post(self, response, status):\n",
    "        # Extracting necessary info from page\n",
    "        next_row_id = len(fc_df)\n",
    "        \n",
    "        fc_df.loc[next_row_id,'post'] = response.css('div.m-statement__quote::text').extract_first().strip()\n",
    "        fc_df.loc[next_row_id,'author'] = response.css('a.m-statement__name::text').extract_first().strip()\n",
    "        fc_df.loc[next_row_id,'desc'] = response.css('div.m-statement__desc::text').extract_first().strip()\n",
    "        fc_df.loc[next_row_id,'status'] = status\n",
    "\n",
    "fc_df = pd.DataFrame(columns=['post', 'author', 'desc', 'status'])\n",
    "\n",
    "# Run the Spider\n",
    "process = CrawlerProcess()\n",
    "process.crawl(FC_Spider)\n",
    "process.start()"
   ]
  },
  {
   "cell_type": "markdown",
   "id": "5873f186",
   "metadata": {},
   "source": [
    "## Exporting the data as intermediate result"
   ]
  },
  {
   "cell_type": "code",
   "execution_count": null,
   "id": "8736cb3a",
   "metadata": {},
   "outputs": [],
   "source": [
    "fc_df.to_csv('fc_df.csv', encoding='utf-8')"
   ]
  }
 ],
 "metadata": {
  "kernelspec": {
   "display_name": "Python 3 (ipykernel)",
   "language": "python",
   "name": "python3"
  },
  "language_info": {
   "codemirror_mode": {
    "name": "ipython",
    "version": 3
   },
   "file_extension": ".py",
   "mimetype": "text/x-python",
   "name": "python",
   "nbconvert_exporter": "python",
   "pygments_lexer": "ipython3",
   "version": "3.8.2"
  }
 },
 "nbformat": 4,
 "nbformat_minor": 5
}
